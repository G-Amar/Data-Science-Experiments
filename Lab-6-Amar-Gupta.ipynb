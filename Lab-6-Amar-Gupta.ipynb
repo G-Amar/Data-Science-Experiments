{
 "cells": [
  {
   "cell_type": "code",
   "execution_count": 2,
   "id": "689de59e-981c-4f72-a3d0-9b6ea503a16c",
   "metadata": {},
   "outputs": [
    {
     "name": "stdout",
     "output_type": "stream",
     "text": [
      "Predicted values for AND \n",
      "x = [[0,0],[0,1],[1,0],[1,1]]\n",
      "[0 0 0 1]\n"
     ]
    }
   ],
   "source": [
    "import numpy as np\n",
    "\n",
    "from sklearn.linear_model import Perceptron\n",
    "\n",
    "#AND\n",
    "X = np.array([[0,0],[0,1],[1,0],[1,1]])\n",
    "y = np.array([0,0,0,1])\n",
    "\n",
    "and_gate = Perceptron(tol=1e-3, random_state=0)\n",
    "and_gate.fit(X, y)\n",
    "\n",
    "x = np.array([[0,0],[0,1],[1,0],[1,1]])\n",
    "print('Predicted values for AND \\nx = [[0,0],[0,1],[1,0],[1,1]]')\n",
    "print(and_gate.predict(x))"
   ]
  },
  {
   "cell_type": "code",
   "execution_count": 3,
   "id": "6d267021-106e-4a68-b92e-84eeca01798d",
   "metadata": {},
   "outputs": [
    {
     "name": "stdout",
     "output_type": "stream",
     "text": [
      "Predicted values for OR \n",
      "x = [[0,0],[0,1],[1,0],[1,1]]\n",
      "[0 1 1 1]\n"
     ]
    }
   ],
   "source": [
    "#OR\n",
    "X = np.array([[0,0],[0,1],[1,0],[1,1]])\n",
    "y = np.array([0,1,1,1])\n",
    "\n",
    "or_gate = Perceptron(tol=1e-3, random_state=0)\n",
    "or_gate.fit(X, y)\n",
    "\n",
    "x = np.array([[0,0],[0,1],[1,0],[1,1]])\n",
    "print('Predicted values for OR \\nx = [[0,0],[0,1],[1,0],[1,1]]')\n",
    "print(or_gate.predict(x))"
   ]
  },
  {
   "cell_type": "code",
   "execution_count": 4,
   "id": "821d1f84-83f0-4191-aad6-4f2d54ca5e0d",
   "metadata": {},
   "outputs": [
    {
     "name": "stdout",
     "output_type": "stream",
     "text": [
      "Predicted values for XOR \n",
      "x = [[0,0],[0,1],[1,0],[1,1]]\n",
      "[0 0 0 0]\n"
     ]
    }
   ],
   "source": [
    "#XOR\n",
    "X = np.array([[0,0],[0,1],[1,0],[1,1]])\n",
    "y = np.array([0,1,1,0])\n",
    "\n",
    "xor_gate = Perceptron(tol=1e-3, random_state=0)\n",
    "xor_gate.fit(X, y)\n",
    "\n",
    "x = np.array([[0,0],[0,1],[1,0],[1,1]])\n",
    "print('Predicted values for XOR \\nx = [[0,0],[0,1],[1,0],[1,1]]')\n",
    "print(xor_gate.predict(x))"
   ]
  },
  {
   "cell_type": "code",
   "execution_count": null,
   "id": "f60a0cc9-183f-4487-b2ce-a5bd921f2762",
   "metadata": {},
   "outputs": [],
   "source": []
  }
 ],
 "metadata": {
  "kernelspec": {
   "display_name": "Python 3 (ipykernel)",
   "language": "python",
   "name": "python3"
  },
  "language_info": {
   "codemirror_mode": {
    "name": "ipython",
    "version": 3
   },
   "file_extension": ".py",
   "mimetype": "text/x-python",
   "name": "python",
   "nbconvert_exporter": "python",
   "pygments_lexer": "ipython3",
   "version": "3.9.13"
  }
 },
 "nbformat": 4,
 "nbformat_minor": 5
}
