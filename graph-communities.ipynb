{
 "cells": [
  {
   "cell_type": "code",
   "execution_count": 31,
   "id": "5a1102f5-8294-468c-896e-bbb10deb2608",
   "metadata": {},
   "outputs": [
    {
     "name": "stdout",
     "output_type": "stream",
     "text": [
      "('A', 'B') 4.0\n",
      "('A', 'C') 4.0\n",
      "('B', 'C') 6.5\n",
      "('B', 'H') 9.5\n",
      "('C', 'D') 9.5\n",
      "('D', 'E') 6.5\n",
      "('D', 'F') 4.0\n",
      "('E', 'F') 4.0\n",
      "('E', 'G') 9.5\n",
      "('G', 'I') 4.0\n",
      "('G', 'H') 6.5\n",
      "('I', 'H') 4.0\n",
      "\n",
      "(['A', 'B', 'C'], ['D', 'E', 'F', 'G', 'H', 'I'])\n",
      "(['A', 'B', 'C'], ['D', 'E', 'F'], ['G', 'H', 'I'])\n",
      "(['A'], ['B', 'C'], ['D', 'E', 'F'], ['G', 'H', 'I'])\n",
      "(['A'], ['B'], ['C'], ['D', 'E', 'F'], ['G', 'H', 'I'])\n",
      "(['A'], ['B'], ['C'], ['D'], ['E', 'F'], ['G', 'H', 'I'])\n",
      "(['A'], ['B'], ['C'], ['D'], ['E'], ['F'], ['G', 'H', 'I'])\n",
      "(['A'], ['B'], ['C'], ['D'], ['E'], ['F'], ['G'], ['H', 'I'])\n",
      "(['A'], ['B'], ['C'], ['D'], ['E'], ['F'], ['G'], ['I'], ['H'])\n"
     ]
    }
   ],
   "source": [
    "import networkx as nx\n",
    "from networkx.algorithms.community import centrality\n",
    "from networkx.algorithms.centrality import edge_betweenness_centrality\n",
    "import itertools\n",
    "\n",
    "graph = [\n",
    "('A','B'),\n",
    "('A','C'),\n",
    "('B','C'),\n",
    "('C','D'),\n",
    "('D','E'),\n",
    "('D','F'),\n",
    "('E','F'),\n",
    "('E','G'),\n",
    "('G','I'),\n",
    "('G','H'),    \n",
    "('H','I'),\n",
    "('B','H')]\n",
    "\n",
    "# create a graph with string node labels\n",
    "G = nx.Graph()\n",
    "G.add_edges_from(graph)\n",
    "\n",
    "edge_betweenness = edge_betweenness_centrality(G, normalized=False)\n",
    "\n",
    "# run the Girvan-Newman algorithm to detect communities\n",
    "comp = centrality.girvan_newman(G)\n",
    "\n",
    "for k, v in edge_betweenness.items():\n",
    "    print(k, v)\n",
    "\n",
    "print()\n",
    "\n",
    "#get first k tuples of communities\n",
    "k = 9\n",
    "for communities in itertools.islice(comp, k):\n",
    "    print(tuple(sorted(c) for c in communities))"
   ]
  },
  {
   "cell_type": "code",
   "execution_count": 39,
   "id": "c1779c31-4039-4097-ae61-1725821ecd7c",
   "metadata": {},
   "outputs": [
    {
     "name": "stdout",
     "output_type": "stream",
     "text": [
      "A 0\n",
      "B 0\n",
      "C 0\n",
      "D 1\n",
      "E 1\n",
      "F 1\n",
      "G 2\n",
      "I 2\n",
      "H 2\n"
     ]
    }
   ],
   "source": [
    "import networkx as nx\n",
    "#after installing python-louvain\n",
    "from community import community_louvain\n",
    "\n",
    "graph = [\n",
    "('A','B'),\n",
    "('A','C'),\n",
    "('B','C'),\n",
    "('C','D'),\n",
    "('D','E'),\n",
    "('D','F'),\n",
    "('E','F'),\n",
    "('E','G'),\n",
    "('G','I'),\n",
    "('G','H'),    \n",
    "('H','I'),\n",
    "('B','H')]\n",
    "\n",
    "# create a graph with string node labels\n",
    "G = nx.Graph()\n",
    "G.add_edges_from(graph)\n",
    "\n",
    "partition = community_louvain.best_partition(G)\n",
    "\n",
    "for k,v in partition.items():\n",
    "    print(k, v)"
   ]
  },
  {
   "cell_type": "code",
   "execution_count": 42,
   "id": "6131bb29-2f22-4ac1-8f88-6c6a45dd1492",
   "metadata": {},
   "outputs": [
    {
     "name": "stdout",
     "output_type": "stream",
     "text": [
      "frozenset({'C', 'A', 'B'})\n",
      "frozenset({'F', 'D', 'E'})\n",
      "frozenset({'H', 'G', 'I'})\n"
     ]
    }
   ],
   "source": [
    "import networkx as nx\n",
    "from networkx.algorithms.community import greedy_modularity_communities\n",
    "# import itertools\n",
    "\n",
    "graph = [\n",
    "('A','B'),\n",
    "('A','C'),\n",
    "('B','C'),\n",
    "('C','D'),\n",
    "('D','E'),\n",
    "('D','F'),\n",
    "('E','F'),\n",
    "('E','G'),\n",
    "('G','I'),\n",
    "('G','H'),    \n",
    "('H','I'),\n",
    "('B','H')]\n",
    "\n",
    "# create a graph with string node labels\n",
    "G = nx.Graph()\n",
    "G.add_edges_from(graph)\n",
    "\n",
    "communities = greedy_modularity_communities(G)\n",
    "\n",
    "for community in communities:\n",
    "    print(community)"
   ]
  },
  {
   "cell_type": "code",
   "execution_count": null,
   "id": "636c8083-a384-4c0d-a35c-04f08aec130d",
   "metadata": {},
   "outputs": [],
   "source": []
  },
  {
   "cell_type": "code",
   "execution_count": 28,
   "id": "c3f96a41-822e-40cf-b875-a5750ea105e4",
   "metadata": {
    "jupyter": {
     "source_hidden": true
    },
    "tags": []
   },
   "outputs": [],
   "source": [
    "## this is the example graph in the slides\n",
    "# graph = [\n",
    "# ('A','B'),\n",
    "# ('A','C'),\n",
    "# ('B','C'),\n",
    "# ('B','D'),\n",
    "# ('D','G'),\n",
    "# ('D','E'),\n",
    "# ('D','F'),\n",
    "# ('E','F'),\n",
    "# ('G','F'),]\n",
    "\n",
    "# # create a graph with string node labels\n",
    "# G = nx.Graph()\n",
    "# G.add_edges_from(graph)\n",
    "\n",
    "# edge_betweenness = edge_betweenness_centrality(G, normalized=False)\n",
    "\n",
    "# # run the Girvan-Newman algorithm to detect communities\n",
    "# comp = centrality.girvan_newman(G)\n",
    "\n",
    "# print(edge_betweenness)\n",
    "# print()\n",
    "\n",
    "# #get first k tuples if communities\n",
    "# k = 9\n",
    "# for communities in itertools.islice(comp, k):\n",
    "#     print(tuple(sorted(c) for c in communities))"
   ]
  }
 ],
 "metadata": {
  "kernelspec": {
   "display_name": "Python 3 (ipykernel)",
   "language": "python",
   "name": "python3"
  },
  "language_info": {
   "codemirror_mode": {
    "name": "ipython",
    "version": 3
   },
   "file_extension": ".py",
   "mimetype": "text/x-python",
   "name": "python",
   "nbconvert_exporter": "python",
   "pygments_lexer": "ipython3",
   "version": "3.9.13"
  }
 },
 "nbformat": 4,
 "nbformat_minor": 5
}
